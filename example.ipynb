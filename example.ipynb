{
 "cells": [
  {
   "cell_type": "code",
   "execution_count": 1,
   "id": "2178a31b-df56-45b8-96a7-f08da1d260c4",
   "metadata": {},
   "outputs": [],
   "source": [
    "import numpy as np\n",
    "\n",
    "from mockFRBhosts.generate_FRBs import generate_frbs, plot_population"
   ]
  },
  {
   "cell_type": "code",
   "execution_count": 2,
   "id": "a097ce60-17b2-4822-a664-cf9d36015135",
   "metadata": {},
   "outputs": [
    {
     "name": "stdout",
     "output_type": "stream",
     "text": [
      "cosmic_pop.py | Generating cosmic population\n",
      "cosmic_pop.py | Finished generating cosmic population\n",
      "survey_pop.py | Surveying cosmic with askap-incoh\n"
     ]
    }
   ],
   "source": [
    "# Generate an FRB population\n",
    "# Specify telescope and parameters\n",
    "survey_model, beam_model = 'askap-incoh', 'gaussian'\n",
    "z_model, z_max, bol_lum_low = 'sfr', 1., 1e39\n",
    "\n",
    "energy_high = 10**41.88  # James et al. 2022 with alpha as rate but with uniform prior\n",
    "specif_lum_high = energy_high/(1e9*0.00267)  # 1GHz bandwidth 2.67ms burst width\n",
    "cosmic_pop, survey_pop = generate_frbs(survey_model, beam_model, z_model=z_model, n_srcs=1e7, z_max=z_max, \n",
    "                                       bol_lum_low=bol_lum_low, specif_lum_high=specif_lum_high, w_min=0.)\n",
    "\n",
    "# Convert it into a pandas data frame.\n",
    "frbs = survey_pop.to_df()"
   ]
  },
  {
   "cell_type": "code",
   "execution_count": null,
   "id": "12b2929e-6029-4d92-b677-310413213b18",
   "metadata": {},
   "outputs": [],
   "source": []
  }
 ],
 "metadata": {
  "kernelspec": {
   "display_name": "Python 3 (ipykernel)",
   "language": "python",
   "name": "python3"
  },
  "language_info": {
   "codemirror_mode": {
    "name": "ipython",
    "version": 3
   },
   "file_extension": ".py",
   "mimetype": "text/x-python",
   "name": "python",
   "nbconvert_exporter": "python",
   "pygments_lexer": "ipython3",
   "version": "3.9.7"
  }
 },
 "nbformat": 4,
 "nbformat_minor": 5
}
