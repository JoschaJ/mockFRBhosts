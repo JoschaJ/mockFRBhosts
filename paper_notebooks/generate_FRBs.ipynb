{
 "cells": [
  {
   "cell_type": "markdown",
   "id": "7e0c188d-6aee-4ff2-a6bb-7548b73f3061",
   "metadata": {},
   "source": [
    "This notebook was used to creat our FRB population and Figure 1 of the paper."
   ]
  },
  {
   "cell_type": "code",
   "execution_count": 1,
   "id": "b6a19721-98bb-40e1-a4a4-23427dcb0d54",
   "metadata": {},
   "outputs": [],
   "source": [
    "import os\n",
    "import gc\n",
    "import time\n",
    "import numpy as np\n",
    "import pandas as pd\n",
    "\n",
    "from mockFRBhosts import generate_frbs, plot_population"
   ]
  },
  {
   "cell_type": "code",
   "execution_count": 2,
   "id": "b21531fc-f3f1-4831-8eb4-e07897dac6d6",
   "metadata": {},
   "outputs": [
    {
     "name": "stdout",
     "output_type": "stream",
     "text": [
      "1.9498445997580413e+35\n",
      "35.071735133749925\n",
      "3.481249368606615e+35\n",
      "4.090111371310695e+34\n",
      "4.575385121146761e+34\n",
      "9.407814350223115e+34\n",
      "35.45348873863543\n",
      "0.240000000000002\n",
      "-0.4799999999999969\n",
      "35.64937199798312\n"
     ]
    }
   ],
   "source": [
    "# Compare the luminosity values obtained from different papers.\n",
    "# Energy from Shin et al. 2022 also in a 1GHz band, but probably at 600MHz\n",
    "print(10**41.29/(1e9*0.001))  # 1GHz bandwidth mean at CHIME is ~1ms\n",
    "print(np.log10(10**41.29/(1e9*0.001)*(1.3/0.6)**(-.65)))  # shift it to 1.3 GHz\n",
    "print(10**41.76/(1e9*0.001)*(1.3/0.6)**(-.65))  # shift it to 1.3 GHz\n",
    "print(10**40.83/(1e9*0.001)*(1.3/0.6)**(-.65))  # shift it to 1.3 GHz\n",
    "print(10**41.40/(1e9*0.00549))  # James plus their width mu\n",
    "print(10**41.40/(1e9*0.00267))  # James plus Arcus width mu\n",
    "E_James = np.log10(10**41.88/(1e9*0.00267))\n",
    "print(E_James)  # James with uniform prior plus Arcus width mu\n",
    "print(np.log10(10**(41.88+.24)/(1e9*0.00267))-E_James)  # James with uniform prior plus Arcus width mu\n",
    "print(np.log10(10**(41.88-.48)/(1e9*0.00267))-E_James)  # James with uniform prior plus Arcus width mu\n",
    "# Hashimoto\n",
    "print(np.log10(1e33*(1.3/1.83)**-.65/(2.8e-3)))"
   ]
  },
  {
   "cell_type": "code",
   "execution_count": 3,
   "id": "1ba468fb-e066-4bf4-a3cc-4dcbcf41b990",
   "metadata": {},
   "outputs": [],
   "source": [
    "# Define the telescope and FRB population parameters that are not kept constant.\n",
    "# Uncomment the survey and distance distribution that you want to generate.\n",
    "# Pick z_max and bol_lum_low such that they do not limit the distribution \n",
    "# but still yield enough observed FRBs. You might wanna pick higher bol_lum_low\n",
    "# values as I probably overdid it a bit.\n",
    "# ASKAP\n",
    "survey_model, beam_model = 'askap-incoh', 'gaussian'\n",
    "z_model, z_max, bol_lum_low = 'sfr', 1.2, 2e40       # Available: 'vol_co', 'sfr', 'smd'\n",
    "# z_model, z_max, bol_lum_low = 'smd', 1.2, 8e39\n",
    "# z_model, z_max, bol_lum_low = 'vol_co', 1.2, 5e39\n",
    "\n",
    "# ASKAP-CRACO\n",
    "# survey_model, beam_model = 'askap-incoh', 'gaussian'\n",
    "# survey = Survey(survey_model)\n",
    "# survey.gain *= 4.4\n",
    "# survey.bw = 288\n",
    "# survey_model = survey\n",
    "# z_model, z_max, bol_lum_low = 'sfr', 2.5, 8e39\n",
    "# z_model, z_max, bol_lum_low = 'smd', 1.8, 2e39\n",
    "# z_model, z_max, bol_lum_low = 'vol_co', 2., 3e39\n",
    "\n",
    "# chord\n",
    "# survey_model, beam_model = 'chord', 'chime-frb'\n",
    "# z_model, z_max, bol_lum_low = 'sfr', 4.5, 1e41\n",
    "#z_model, z_max, bol_lum_low = 'smd', 4., 1e40\n",
    "#z_model, z_max, bol_lum_low = 'vol_co', 5., 5e40\n",
    "\n",
    "# Meerkat (values in frbpoppy seem to be placeholders)\n",
    "#survey_model, beam_model = 'meerkat', 'gaussian'\n",
    "#z_model, z_max, bol_lum_low = 'sfr', 1.5, 1e40\n",
    "#z_model, z_max, bol_lum_low = 'smd', 1.5, 1e40\n",
    "#z_model, z_max, bol_lum_low = 'vol_co', 2., 1e40\n",
    "\n",
    "# SKA1-mid\n",
    "# survey_model, beam_model = 'ska1-mid', 'gaussian'\n",
    "# z_model, z_max, bol_lum_low = 'sfr', 6., 3e37\n",
    "#z_model, z_max, bol_lum_low = 'smd', 5., 4e36\n",
    "#z_model, z_max, bol_lum_low = 'vol_co', 6., 3e37\n",
    "\n",
    "# CHIME\n",
    "# survey_model, beam_model = 'chime-frb', 'chime-frb'\n",
    "# z_model, z_max, bol_lum_low = 'sfr', 3.5, 1e41\n",
    "# z_model, z_max, bol_lum_low = 'smd', 2.2, 1e40\n",
    "# z_model, z_max, bol_lum_low = 'vol_co', 2.8, 3e40"
   ]
  },
  {
   "cell_type": "code",
   "execution_count": 4,
   "id": "83b3d14f-7b69-4962-80b6-c540c17fd4b7",
   "metadata": {},
   "outputs": [],
   "source": [
    "# Use these instead of the previous cell if you want to loop over several populations.\n",
    "# Also uncomment the loop below\n",
    "all_runs = [\n",
    "    # # ASKAP\n",
    "    # ['askap-incoh', 'gaussian', 'sfr', 1.2, 2e40],\n",
    "    # ['askap-incoh', 'gaussian', 'smd', 1.2, 8e39],\n",
    "    # ['askap-incoh', 'gaussian', 'vol_co', 1.2, 5e39],\n",
    "    # # CHIME\n",
    "    # ['chime-frb', 'chime-frb', 'sfr', 3.5, 1e41],\n",
    "    # ['chime-frb', 'chime-frb', 'smd', 2.2, 1e40],\n",
    "    # ['chime-frb', 'chime-frb', 'vol_co', 2.8, 3e40],\n",
    "    # # Meerkat\n",
    "    # ['meerkat', 'gaussian', 'sfr', 1., 1e40],\n",
    "    # ['meerkat', 'gaussian', 'smd', 1.2, 5e39],\n",
    "    # ['meerkat', 'gaussian', 'vol_co', 1.2, 1e40],\n",
    "    # # SKA1-mid\n",
    "    # ['ska1-mid', 'gaussian', 'sfr', 6., 3e37],\n",
    "    # ['ska1-mid', 'gaussian', 'smd', 5., 4e36],\n",
    "    # ['ska1-mid', 'gaussian', 'vol_co', 6., 3e37],\n",
    "]"
   ]
  },
  {
   "cell_type": "code",
   "execution_count": 5,
   "id": "72658386-b07a-4be7-873e-e19c9a1cae2d",
   "metadata": {},
   "outputs": [
    {
     "name": "stdout",
     "output_type": "stream",
     "text": [
      "cosmic_pop.py | Generating cosmic population\n",
      "cosmic_pop.py | Finished generating cosmic population\n",
      "survey_pop.py | Surveying cosmic with askap-incoh\n",
      "56 FRBs have been observed\n",
      "1195 FRBs will be saved\n"
     ]
    },
    {
     "data": {
      "image/png": "[encoded data removed]",
      "text/plain": [
       "<Figure size 506.03x126.508 with 3 Axes>"
      ]
     },
     "metadata": {},
     "output_type": "display_data"
    }
   ],
   "source": [
    "n_frbs = 1000\n",
    "\n",
    "# Uncomment the following line and indent everything below if you want to loop over \"all_runs\".\n",
    "# for survey_model, beam_model, z_model, z_max, bol_lum_low in all_runs:\n",
    "\n",
    "# Define the names of files to be saved. Consider the special cases of CRACO.\n",
    "if isinstance(survey_model, str):\n",
    "    file = f\"../Simulated_FRBs/{survey_model}_{z_model}.pickle\"\n",
    "    fig_name = f\"../Simulated_FRBs/{survey_model}_{z_model}.png\"\n",
    "else:\n",
    "    file = f\"../Simulated_FRBs/askap-craco_{z_model}.pickle\"\n",
    "    fig_name = f\"../Simulated_FRBs/askap-craco_{z_model}.png\"\n",
    "\n",
    "# Make a new file if non-existend pickle file\n",
    "if os.path.isfile(file):\n",
    "    frbs = np.load(file, allow_pickle=True)\n",
    "else:\n",
    "    frbs = pd.DataFrame()\n",
    "    print(\"Starting a new FRB population\")\n",
    "\n",
    "i = 0\n",
    "while (frbs.shape[0] < n_frbs and i < 100) or i == 0:\n",
    "    try:\n",
    "        # Free workspace. Somehow this is not done automatically.\n",
    "        del(cosmic_pop)\n",
    "        gc.collect()\n",
    "    except:\n",
    "        pass\n",
    "    energy_high = 10**41.88  # James et al. 2022 with alpha as rate but with uniform prior\n",
    "    specif_lum_high = energy_high/(1e9*0.00267)  # 1GHz bandwidth 2.67ms\n",
    "    cosmic_pop, survey_pop = generate_frbs(survey_model, beam_model, z_model=z_model, n_srcs=1e7, z_max=z_max, \n",
    "                                           bol_lum_low=bol_lum_low, specif_lum_high=specif_lum_high)\n",
    "    frbs = frbs.append(survey_pop.to_df())\n",
    "    print(survey_pop.n_bursts(), \"FRBs have been observed\")\n",
    "    i += 1\n",
    "    # Uncomment the following and the last line if the code is run on a laptop.\n",
    "    # if i == 33 or i == 66:  \n",
    "    #     time.sleep(60*10)\n",
    "\n",
    "print(frbs.shape[0], \"FRBs will be saved\")\n",
    "frbs.to_pickle(file)\n",
    "\n",
    "fig = plot_population(frbs, cosmic_pop, cpop_factor=n_frbs//survey_pop.n_bursts(), plot_james=False)\n",
    "\n",
    "# fig.savefig(fig_name, dpi=300, bbox_inches='tight')\n",
    "fig.show()\n",
    "#time.sleep(60*20)  # 20 minutes break to prevent overheating"
   ]
  }
 ],
 "metadata": {
  "kernelspec": {
   "display_name": "Python 3 (ipykernel)",
   "language": "python",
   "name": "python3"
  },
  "language_info": {
   "codemirror_mode": {
    "name": "ipython",
    "version": 3
   },
   "file_extension": ".py",
   "mimetype": "text/x-python",
   "name": "python",
   "nbconvert_exporter": "python",
   "pygments_lexer": "ipython3",
   "version": "3.9.7"
  }
 },
 "nbformat": 4,
 "nbformat_minor": 5
}
