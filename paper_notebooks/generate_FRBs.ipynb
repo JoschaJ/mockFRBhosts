{
 "cells": [
  {
   "cell_type": "code",
   "execution_count": 38,
   "id": "b6a19721-98bb-40e1-a4a4-23427dcb0d54",
   "metadata": {},
   "outputs": [],
   "source": [
    "import os\n",
    "import gc\n",
    "import time\n",
    "import numpy as np\n",
    "import pandas as pd\n",
    "import matplotlib.pyplot as plt\n",
    "import seaborn as sns\n",
    "\n",
    "from mock_FRB_follow-up"
   ]
  },
  {
   "cell_type": "code",
   "execution_count": 10,
   "id": "e8f7639f-7c0a-45b6-810c-9b4f0549d5b0",
   "metadata": {},
   "outputs": [],
   "source": [
    "# Define some plotting variables.\n",
    "textwidth = 7.0282  # might also be from latex textwidth=17.85162cm columnwidth=8.5744cm\n",
    "columnwidth = 3.37574803  #3.3\n",
    "\n",
    "small_size = 8\n",
    "medium_size = 10\n",
    "bigger_size = 12\n",
    "\n",
    "sns.set_theme(style=\"ticks\", context=\"paper\")\n",
    "\n",
    "plt.rc('font', size=small_size)          # controls default text sizes\n",
    "plt.rc('axes', titlesize=small_size)     # fontsize of the axes title\n",
    "plt.rc('axes', labelsize=medium_size)    # fontsize of the x and y labels\n",
    "plt.rc('xtick', labelsize=small_size)    # fontsize of the tick labels\n",
    "plt.rc('ytick', labelsize=small_size)    # fontsize of the tick labels\n",
    "plt.rc('legend', fontsize=small_size)    # legend fontsize\n",
    "plt.rc('figure', titlesize=bigger_size)  # fontsize of the figure title"
   ]
  },
  {
   "cell_type": "code",
   "execution_count": 14,
   "id": "06420ec5-d123-48ef-912e-28f8869c4cb4",
   "metadata": {},
   "outputs": [
    {
     "data": {
      "text/plain": [
       "(8.965379844540323e+34, 3.888870236857153e+44)"
      ]
     },
     "execution_count": 14,
     "metadata": {},
     "output_type": "execute_result"
    }
   ],
   "source": [
    "# energy_high = 10**41.40\n",
    "# specif_lum_high = energy_high/(1e9*0.00267)\n",
    "# spectral_index = -0.65\n",
    "# freq_low, freq_high = 100e6, 50e9\n",
    "# freq_factor = (freq_high**(1+spectral_index) - freq_low**(1+spectral_index))/1.3e9**spectral_index\n",
    "# # luminosity_low = bol_lum_low  # bol_lum_low * freq_factor\n",
    "# luminosity_high = specif_lum_high * freq_factor\n",
    "# specif_lum_high*(1.4e9/1.3e9)**spectral_index"
   ]
  },
  {
   "cell_type": "code",
   "execution_count": 15,
   "id": "b21531fc-f3f1-4831-8eb4-e07897dac6d6",
   "metadata": {},
   "outputs": [
    {
     "name": "stdout",
     "output_type": "stream",
     "text": [
      "1.9498445997580413e+35\n",
      "35.071735133749925\n",
      "3.481249368606615e+35\n",
      "4.090111371310695e+34\n",
      "4.575385121146761e+34\n",
      "9.407814350223115e+34\n",
      "35.45348873863543\n",
      "0.240000000000002\n",
      "-0.4799999999999969\n"
     ]
    }
   ],
   "source": [
    "# Compare the luminosity values obtained from different papers.\n",
    "# Energy from Shin et al. 2022 also in a 1GHz band, but probably at 600MHz\n",
    "print(10**41.29/(1e9*0.001))  # 1GHz bandwidth mean at CHIME is ~1ms\n",
    "print(np.log10(10**41.29/(1e9*0.001)*(1.3/0.6)**(-.65)))  # shift it to 1.3 GHz\n",
    "print(10**41.76/(1e9*0.001)*(1.3/0.6)**(-.65))  # shift it to 1.3 GHz\n",
    "print(10**40.83/(1e9*0.001)*(1.3/0.6)**(-.65))  # shift it to 1.3 GHz\n",
    "print(10**41.40/(1e9*0.00549))  # James plus their width mu\n",
    "print(10**41.40/(1e9*0.00267))  # James plus Arcus width mu\n",
    "E_James = np.log10(10**41.88/(1e9*0.00267))\n",
    "print(E_James)  # James with uniform prior plus Arcus width mu\n",
    "print(np.log10(10**(41.88+.24)/(1e9*0.00267))-E_James)  # James with uniform prior plus Arcus width mu\n",
    "print(np.log10(10**(41.88-.48)/(1e9*0.00267))-E_James)  # James with uniform prior plus Arcus width mu\n",
    "# Hashimoto\n",
    "print(np.log10(1e33*(1.3/1.83)**-.65/(2.8e-3)))"
   ]
  },
  {
   "cell_type": "code",
   "execution_count": 33,
   "id": "1ba468fb-e066-4bf4-a3cc-4dcbcf41b990",
   "metadata": {},
   "outputs": [],
   "source": [
    "# Define the telescope and FRB population parameters that are not kept the same.\n",
    "# \n",
    "# ASKAP\n",
    "# survey_model, beam_model = 'askap-incoh', 'gaussian'\n",
    "# z_model, z_max, bol_lum_low = 'sfr', 1., 2e40       # Available: 'vol_co', 'sfr', 'smd'\n",
    "# z_model, z_max, bol_lum_low = 'smd', 1., 8e39\n",
    "# z_model, z_max, bol_lum_low = 'vol_co', 1., 5e39\n",
    "\n",
    "# ASKAP-CRACO\n",
    "survey_model, beam_model = 'askap-incoh', 'gaussian'\n",
    "survey = Survey(survey_model)\n",
    "survey.gain *= 4.4\n",
    "survey.bw = 288\n",
    "survey_model = survey\n",
    "z_model, z_max, bol_lum_low = 'sfr', 2.5, 8e39\n",
    "# z_model, z_max, bol_lum_low = 'smd', 1.8, 2e39\n",
    "# z_model, z_max, bol_lum_low = 'vol_co', 2., 3e39\n",
    "\n",
    "# chord\n",
    "# survey_model, beam_model = 'chord', 'chime-frb'\n",
    "# z_model, z_max, bol_lum_low = 'sfr', 4.5, 1e41\n",
    "#z_model, z_max, bol_lum_low = 'smd', 4., 1e40\n",
    "#z_model, z_max, bol_lum_low = 'vol_co', 5., 5e40\n",
    "\n",
    "# Meerkat (values in frbpoppy seem to be placeholders)\n",
    "#survey_model, beam_model = 'meerkat', 'gaussian'\n",
    "#z_model, z_max, bol_lum_low = 'sfr', 1.5, 1e40\n",
    "#z_model, z_max, bol_lum_low = 'smd', 1.5, 1e40\n",
    "#z_model, z_max, bol_lum_low = 'vol_co', 2., 1e40\n",
    "\n",
    "# SKA1-mid\n",
    "# survey_model, beam_model = 'ska1-mid', 'gaussian'\n",
    "# z_model, z_max, bol_lum_low = 'sfr', 6.5, 1e39\n",
    "#z_model, z_max, bol_lum_low = 'smd', 6.5, 1e38\n",
    "#z_model, z_max, bol_lum_low = 'vol_co', 6.5, 5e37\n",
    "\n",
    "# CHIME\n",
    "# survey_model, beam_model = 'chime-frb', 'chime-frb'\n",
    "# z_model, z_max, bol_lum_low = 'sfr', 2.5, 5e41\n",
    "# z_model, z_max, bol_lum_low = 'smd', 2., 5e40\n",
    "# z_model, z_max, bol_lum_low = 'vol_co', 2., 8e40"
   ]
  },
  {
   "cell_type": "code",
   "execution_count": 25,
   "id": "83b3d14f-7b69-4962-80b6-c540c17fd4b7",
   "metadata": {},
   "outputs": [],
   "source": [
    "all_runs = [\n",
    "    # ASKAP\n",
    "    # ['askap-incoh', 'gaussian', 'sfr', 1.2, 2e40],\n",
    "    # ['askap-incoh', 'gaussian', 'smd', 1.2, 8e39],\n",
    "    # ['askap-incoh', 'gaussian', 'vol_co', 1.2, 5e39],\n",
    "    # # CHIME\n",
    "    ['chime-frb', 'chime-frb', 'sfr', 3.5, 1e41],\n",
    "    # ['chime-frb', 'chime-frb', 'smd', 2.2, 1e40],\n",
    "    # ['chime-frb', 'chime-frb', 'vol_co', 2.8, 3e40],\n",
    "    # Meerkat\n",
    "    # ['meerkat', 'gaussian', 'sfr', 1., 1e40],\n",
    "    # ['meerkat', 'gaussian', 'smd', 1.2, 5e39],\n",
    "    # ['meerkat', 'gaussian', 'vol_co', 1.2, 1e40],\n",
    "    # SKA1-mid\n",
    "    # ['ska1-mid', 'gaussian', 'sfr', 6., 3e37],\n",
    "    # ['ska1-mid', 'gaussian', 'smd', 5., 4e36],\n",
    "    # ['ska1-mid', 'gaussian', 'vol_co', 6., 3e37],\n",
    "]"
   ]
  },
  {
   "cell_type": "code",
   "execution_count": 21,
   "id": "4d95a8a5-ec2c-40ef-a220-8cba05770410",
   "metadata": {
    "tags": []
   },
   "outputs": [],
   "source": [
    "# For comparison\n",
    "james_frbs = np.array([186.7, 15.9, 0.15, 898.1, 32.2, 0.718, 1179.5, 26, 1.321, 582.2, 13.8, 0.571, 438.5, 20.2, 0.062, 636.2, 23.1, 0.441, 315.3, 17.9, 0.089, 735.7,\n",
    "27.7, 0.482, 833.1, 10.5, 0.949, 1405, 11.4, 1.318, 595.3, 32.8, 0.25, 1083, 19.3, 1.101, 313.4, 16.8, 0.37, 709.4, 12.4, 0.58, 568.5, 13.1, 0.629, 1794.1, 14.9, 1.849,\n",
    "143.5, 11, 0.026, 736.2, 11, 0.546, 743.4, 12.6, 0.812, 808.6, 33.4, 0.472, 941.9, 10, 0.755, 352, 16, 0.126, 460.5, 10.7, 0.355, 447.5, 38.3, 0.543, 1271.8, 12.1, 0.432, 1346.2, 12.3, 1.567, 1308.6, 15.7, 1.273, 428.3,\n",
    "12.3, 0.537, 567.9, 12.4, 0.608, 421.8, 28, 0.018, 410.5, 84.7, 0.057, 602.3, 16.3, 0.093, 391.1, 117.3, 0.251, 1110.1, 94, 0.439, 1287.8, 9.7, 1.592, 303.5, 10.8, 0.137, 634.8, 15.9, 0.378,\n",
    "799.7, 18.8, 0.465, 383, 15.6, 0.176, 309.6, 30, 0.159, 372.7, 16.2, 0.167, 3446.6, 25.6, 0.08, 237.3, 13.3, 0.041, 721.5, 25.8, 0.306, 478.8, 27, 0.354, 296.3, 21.4, 0.134, 835, 51.2, 0.735, 573.2, 19.6,\n",
    "0.464, 282.6, 10.6, 0.263, 184.5, 11.4, 0.063, 151.4, 223.4, 0.046, 580, 15.6, 0.632, 819.9, 13.1, 0.75, 754, 9.6, 0.103, 162.3, 17.3, 0.138, 391.9, 11.2, 0.43, 371.1, 25, 0.282, 282,\n",
    "21.7, 0.073, 357.4, 16.3, 0.262, 548.7, 25.8, 0.35, 331.8, 40.2, 0.085, 449.7, 12.6, 0.019, 557.5, 88.5, 0.289, 187.9, 40.8, 0.052, 818.5, 9.8,  0.66, 522.1, 11.8, 0.353, 1257.6, 22.4,\n",
    "0.699, 233.3, 85.5, 0.081, 1116.3, 11.6, 1.367, 923.9, 9.9, 0.961, 2259.2, 12.3, 1.338, 568.1, 15.9, 0.295, 307.9, 22.6, 0.243, 1327.1, 18.6, 0.437, 1311.1, 24.4, 1.712, 901, 39.8, 0.744, 848.2,\n",
    "11.6, 1.006, 776.9, 14.5, 0.786, 1060.6, 10.6, 1.108, 359.8, 46.4, 0.372, 785.5, 10, 0.164, 733.7, 18.7, 0.633, 484.9, 11.7, 0.52, 685.6, 9.8, 0.765, 481.2, 9.6, 0.424, 568.9, 14.8, 0.644, 484.7,\n",
    "14.9, 0.61, 398.7, 23.3, 0.239, 260.6, 12.9, 0.054, 664.2, 15.8, 0.495, 393.8, 12.7, 0.291, 326.6, 14.2, 0.251, 273.7, 22.7, 0.182, 726, 23.7, 0.089, 534.4, 21, 0.556, 342.1, 48.2, 0.029, 703.6,\n",
    "10.8, 0.195, 376.5, 47.9, 0.279, 335.9, 18.5, 0.329, 271.9, 18.9, 0.237, ])"
   ]
  },
  {
   "cell_type": "code",
   "execution_count": 20,
   "id": "d6e7a57a-7aa2-4f72-9d66-1b23bf310afc",
   "metadata": {},
   "outputs": [
    {
     "data": {
      "text/plain": [
       "array([0.15 , 0.718, 1.321, 0.571, 0.062, 0.441, 0.089, 0.482, 0.949,\n",
       "       1.318, 0.25 , 1.101, 0.37 , 0.58 , 0.629, 1.849, 0.026, 0.546,\n",
       "       0.812, 0.472, 0.755, 0.126, 0.355, 0.543, 0.432, 1.567, 1.273,\n",
       "       0.537, 0.608, 0.018, 0.057, 0.093, 0.251, 0.439, 1.592, 0.137,\n",
       "       0.378, 0.465, 0.176, 0.159, 0.167, 0.08 , 0.041, 0.306, 0.354,\n",
       "       0.134, 0.735, 0.464, 0.263, 0.063, 0.046, 0.632, 0.75 , 0.103,\n",
       "       0.138, 0.43 , 0.282, 0.073, 0.262, 0.35 , 0.085, 0.019, 0.289,\n",
       "       0.052, 0.66 , 0.353, 0.699, 0.081, 1.367, 0.961, 1.338, 0.295,\n",
       "       0.243, 0.437, 1.712, 0.744, 1.006, 0.786, 1.108, 0.372, 0.164,\n",
       "       0.633, 0.52 , 0.765, 0.424, 0.644, 0.61 , 0.239, 0.054, 0.495,\n",
       "       0.291, 0.251, 0.182, 0.089, 0.556, 0.029, 0.195, 0.279, 0.329,\n",
       "       0.237])"
      ]
     },
     "execution_count": 20,
     "metadata": {},
     "output_type": "execute_result"
    }
   ],
   "source": [
    "james_frbs.reshape((100,3))[:, 2]"
   ]
  },
  {
   "cell_type": "code",
   "execution_count": 40,
   "id": "72658386-b07a-4be7-873e-e19c9a1cae2d",
   "metadata": {},
   "outputs": [
    {
     "name": "stdout",
     "output_type": "stream",
     "text": [
      "cosmic_pop.py | Generating cosmic population\n",
      "cosmic_pop.py | Finished generating cosmic population\n",
      "survey_pop.py | Surveying cosmic with askap-incoh\n",
      "29\n",
      "1057\n"
     ]
    },
    {
     "data": {
      "image/png": "[encoded data removed]",
      "text/plain": [
       "<Figure size 506.03x126.508 with 3 Axes>"
      ]
     },
     "metadata": {},
     "output_type": "display_data"
    }
   ],
   "source": [
    "n_frbs = 1000\n",
    "\n",
    "# for survey_model, beam_model, z_model, z_max, bol_lum_low in all_runs:\n",
    "\n",
    "# Define the names of files to be saved. Consider the special cases of CRACO.\n",
    "if isinstance(survey_model, str):\n",
    "    file = f\"Simulated_FRBs/{survey_model}_{z_model}.pickle\"\n",
    "    fig_name = f\"Simulated_FRBs/{survey_model}_{z_model}.png\"\n",
    "else:\n",
    "    file = f\"Simulated_FRBs/askap-craco_{z_model}.pickle\"\n",
    "    fig_name = f\"Simulated_FRBs/askap-craco_{z_model}.png\"\n",
    "\n",
    "# Make a new file if non-existend pickle file\n",
    "if os.path.isfile(file):\n",
    "    frbs = np.load(file, allow_pickle=True)\n",
    "else:\n",
    "    frbs = pd.DataFrame()\n",
    "    print(\"Starting a new FRB population\")\n",
    "\n",
    "i = 0\n",
    "while (frbs.shape[0] < n_frbs and i < 100) or i == 0:\n",
    "    try:\n",
    "        # Free workspace. Somehow this is not done automatically.\n",
    "        del(cosmic_pop)\n",
    "        gc.collect()\n",
    "    except:\n",
    "        pass\n",
    "    energy_high = 10**41.88  # James et al. 2022 with alpha as rate but with uniform prior\n",
    "    specif_lum_high = energy_high/(1e9*0.00267)  # 1GHz bandwidth 5.49ms0.00549\n",
    "    cosmic_pop, survey_pop = generate_frbs(survey_model, beam_model, z_model=z_model, n_srcs=1e7, z_max=z_max, \n",
    "                                           bol_lum_low=bol_lum_low, specif_lum_high=specif_lum_high, w_min=0.)\n",
    "    frbs = frbs.append(survey_pop.to_df())\n",
    "    print(survey_pop.n_bursts())\n",
    "    i += 1\n",
    "    # Uncomment the following if the code is run on a laptop.\n",
    "    # if i == 33 or i == 66:  \n",
    "    #     time.sleep(60*10)\n",
    "\n",
    "print(frbs.shape[0])\n",
    "\n",
    "# Make a three panel plot with different generated parameter distributions.\n",
    "fig, (ax1, ax2, ax3) = plt.subplots(1, 3, sharey=True, figsize=(textwidth, textwidth/3*4.8/6.4), gridspec_kw={'wspace': 0.06})\n",
    "\n",
    "palette = sns.color_palette('Set2')\n",
    "\n",
    "wbins = np.logspace(-1, 3., 30)\n",
    "histo, bins = np.histogram(cosmic_pop.frbs.w_int, bins=wbins)\n",
    "ax1.bar(bins[:-1], 1000//survey_pop.n_bursts()*histo, width=np.diff(bins), align='edge', label='cosmic population', color=palette[2])\n",
    "ax1.hist(frbs['w_int'], density=False, bins=wbins, alpha=1., color=palette[1], label='observed population')\n",
    "ax1.set_xscale('log')\n",
    "ax1.set_yscale('log')\n",
    "ax1.set_xlabel('$w_\\mathrm{int}$ (ms)')\n",
    "ax1.set_ylabel('Number of bursts')\n",
    "ax1.set_xticks([.1, 1, 10, 100, 1e3])\n",
    "\n",
    "# Luminosity\n",
    "l_min, l_max = cosmic_pop.frbs.lum_bol.min(), cosmic_pop.frbs.lum_bol.max()\n",
    "lbins = np.logspace(np.log10(l_min), np.log10(l_max), 30)\n",
    "histo, bins = np.histogram(cosmic_pop.frbs.lum_bol, bins=lbins)\n",
    "\n",
    "ax2.bar(bins[:-1], 1000//survey_pop.n_bursts()*histo, width=np.diff(bins), align='edge', color=palette[2], label='cosmic population')\n",
    "ax2.hist(frbs['lum_bol'], density=False, bins=lbins, alpha=1, color=palette[1], label='observed population')\n",
    "ax2.set_xscale('log')\n",
    "ax2.set_yscale('log')\n",
    "#ax2.set_title('Bolometric luminosity')\n",
    "ax2.set_xlabel(r'$L_\\mathrm{bol} \\;(\\mathrm{erg\\,s}^{-1})$')\n",
    "ax2.set_xticks([1e40, 1e42, 1e44])\n",
    "ax2.legend()\n",
    "\n",
    "# Redshift\n",
    "histo, bins = np.histogram(cosmic_pop.frbs.z, bins=30, range=(0, cosmic_pop.frbs.z.max()))\n",
    "\n",
    "ax3.bar(bins[:-1], 1000//survey_pop.n_bursts()*histo, align='edge', width=np.diff(bins), color=palette[2])\n",
    "#n, bins, patches = ax3.hist(cosmic_pop.frbs.z, density=False, bins=30, alpha=1.)  #bins=bins,\n",
    "ax3.hist(frbs['z'], density=False, bins=bins, alpha=1., color=palette[1])\n",
    "\n",
    "# Add simulated FRBs from James et al.\n",
    "james_zs = james_frbs.reshape((100,3))[:, 2]\n",
    "if bins[-1] < james_zs.max():\n",
    "    nbins = np.ceil(james_zs.max()/(bins[1]-bins[0]))\n",
    "    bins = np.linspace(0, nbins*(bins[1]-bins[0]), num=int(nbins))\n",
    "ax3.hist(james_zs, density=False, bins=bins, alpha=.8, color=palette[0], label=\"James et al. (2022c)\")\n",
    "ax3.set_yscale('log')\n",
    "#ax3.set_xlim(0, 4)\n",
    "ax3.set_xlabel('$z$')\n",
    "ax3.set_ylim(0.5, 1e10)\n",
    "ax3.set_yticks([1, 10, 100, 1e3, 1e4, 1e5, 1e6, 1e7, 1e8, 1e9])\n",
    "ax3.legend()\n",
    "\n",
    "fig.savefig(fig_name, dpi=300, bbox_inches='tight')\n",
    "plt.show()\n",
    "#time.sleep(60*20)  # 20 minutes break to prevent overheating"
   ]
  }
 ],
 "metadata": {
  "kernelspec": {
   "display_name": "Python 3 (ipykernel)",
   "language": "python",
   "name": "python3"
  },
  "language_info": {
   "codemirror_mode": {
    "name": "ipython",
    "version": 3
   },
   "file_extension": ".py",
   "mimetype": "text/x-python",
   "name": "python",
   "nbconvert_exporter": "python",
   "pygments_lexer": "ipython3",
   "version": "3.9.7"
  }
 },
 "nbformat": 4,
 "nbformat_minor": 5
}
