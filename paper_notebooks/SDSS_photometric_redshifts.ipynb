{
 "cells": [
  {
   "cell_type": "code",
   "execution_count": null,
   "id": "8dea6ffe-4b99-49c9-b890-b1f9ea002fad",
   "metadata": {},
   "outputs": [],
   "source": [
    "import os\n",
    "import warnings\n",
    "import numpy as np\n",
    "import pandas as pd\n",
    "import matplotlib.pyplot as plt\n",
    "import seaborn as sns\n",
    "\n",
    "from glob import glob\n",
    "from numpy.random import normal\n",
    "from scipy.stats import sigmaclip\n",
    "from astropy.coordinates import Distance\n",
    "from astropy.cosmology import Planck18_arXiv_v2 as cosmo\n",
    "\n",
    "from mockFRBhosts import draw_galaxies, observed_bands\n",
    "from mockFRBhosts.observable import beck_mag_cuts, estimate_photo_err\n",
    "\n",
    "#%matplotlib widget\n",
    "sns.set_theme(style='whitegrid')"
   ]
  },
  {
   "cell_type": "code",
   "execution_count": null,
   "id": "f277c8e3-7a10-4dcf-93e3-10c8813ccf35",
   "metadata": {},
   "outputs": [],
   "source": [
    "# Load FRBs from the pickle files.\n",
    "n_frbs = 1000\n",
    "pickles = sorted(glob('../Simulated_FRBs/*.pickle'))\n",
    "survey_models, z_models = [], []\n",
    "for file in pickles:\n",
    "    # Extract models from file names.\n",
    "    params = os.path.basename(file)\n",
    "    params = os.path.splitext(params)[0]\n",
    "    params = params.split('_', 1)\n",
    "    survey_models.append(params[0])\n",
    "    z_models.append(params[1])"
   ]
  },
  {
   "cell_type": "code",
   "execution_count": null,
   "id": "1298622c-5056-41cb-86e2-28bd5f7b4722",
   "metadata": {},
   "outputs": [],
   "source": [
    "# Pick an FRB survey and redshift distribution\n",
    "chosen = pickles[4]\n",
    "print(chosen)"
   ]
  },
  {
   "cell_type": "code",
   "execution_count": null,
   "id": "4176945a-d0ce-4a04-b387-2ba60d6252a0",
   "metadata": {},
   "outputs": [],
   "source": [
    "# Weight galaxy choice depending on file name\n",
    "if os.path.splitext(chosen)[0][-3:] == 'sfr':  # last thre letters before extension\n",
    "    weights = 'mstardot'\n",
    "else:\n",
    "    weights = 'mstars_total'\n",
    "\n",
    "frbs = np.load(chosen, allow_pickle=True)\n",
    "print(frbs.shape[0], \"FRBs in file, using only first\", n_frbs)\n",
    "frbs = frbs.iloc[:n_frbs].copy() \n",
    "\n",
    "galaxies, snapnum = draw_galaxies(frbs['z'], weights=weights, seed=42)\n",
    "\n",
    "# Order FRBs such that they correspond to galaxies at the same positions.\n",
    "frbs.loc[:, 'snapnum'] = snapnum\n",
    "frbs.sort_values('snapnum', ascending=True, inplace=True)\n",
    "\n",
    "n_bands_obs_SDSS, n_bands_obs_LSST, n_bands_obs_Euclid, n_bands_obs_DES = observed_bands(frbs, galaxies)\n",
    "\n",
    "frbs['n_bands_SDSS'] = n_bands_obs_SDSS.to_numpy()\n",
    "frbs['n_bands_LSST'] = n_bands_obs_LSST.to_numpy()\n",
    "frbs['n_bands_Euclid'] = n_bands_obs_Euclid.to_numpy()\n",
    "frbs['n_bands_DES'] = n_bands_obs_DES.to_numpy()"
   ]
  },
  {
   "cell_type": "code",
   "execution_count": null,
   "id": "c6c5ad94-07aa-46dc-a672-967cb469d47f",
   "metadata": {
    "tags": []
   },
   "outputs": [],
   "source": [
    "# Get apparent magnitudes in SDSS\n",
    "frb_zs = frbs['z'].to_numpy()\n",
    "dist = Distance(z=frb_zs, cosmology=cosmo)\n",
    "apparent_mag_SDSS = (dist.distmod.value[:, np.newaxis] + 5*np.log10(cosmo.h)\n",
    "                    - 2.5*np.log10(1+frb_zs)[:, np.newaxis]\n",
    "                    + galaxies.loc[:, 'mag_SDSS-u_tot':'mag_SDSS-z_tot'])\n",
    "mag_limits_SDSS = np.array([22.0, 22.2, 22.2, 21.3, 20.5])"
   ]
  },
  {
   "cell_type": "code",
   "execution_count": null,
   "id": "840ac89e-031f-4854-9e06-1d9ffb3fcee9",
   "metadata": {},
   "outputs": [],
   "source": [
    "apparent_mag_SDSS.rename(columns={'mag_SDSS-u_tot' : 'u', \n",
    "                                  'mag_SDSS-g_tot' : 'g', \n",
    "                                  'mag_SDSS-r_tot' : 'r',\n",
    "                                  'mag_SDSS-i_tot' : 'i', \n",
    "                                  'mag_SDSS-z_tot' : 'z'},\n",
    "                        inplace=True)"
   ]
  },
  {
   "cell_type": "code",
   "execution_count": null,
   "id": "8fcb36b0-b302-450c-9458-c6fdda123866",
   "metadata": {},
   "outputs": [],
   "source": [
    "# Get real SDSS galaxies to estimate the errors.\n",
    "sdss = pd.read_csv('Skyserver_SQL3_4_2022 4 21 09 PM.csv', delimiter=',', header=1)\n",
    "\n",
    "ngal = sdss.shape[0]\n",
    "\n",
    "# Save magnitudes and errors seperately.\n",
    "bands = sdss.loc[:, 'u':'z':2]\n",
    "errs = sdss.loc[:, 'err_u':'err_z':2]\n",
    "\n",
    "# Exclude outliers.\n",
    "not_outlier = (bands > -100).all(axis=1)\n",
    "bands = bands[not_outlier]\n",
    "errs = errs[not_outlier]\n",
    "\n",
    "# Draw errors from the data statistics depending on the binned magnitudes.\n",
    "sim_errs = pd.DataFrame(index=apparent_mag_SDSS.index)\n",
    "\n",
    "# Simulate errors in each band.\n",
    "for b, e in zip(bands, errs):\n",
    "    # Define edges of magnitude bins. Make sure all magnitudes are inside.\n",
    "    sim_errs[e], med_mag, std_mag, bins = estimate_photo_err(apparent_mag_SDSS[b], bands[b], errs[e], bins=30)\n"
   ]
  },
  {
   "cell_type": "code",
   "execution_count": null,
   "id": "ec2701cc-0f1e-4461-a4ca-9d94de038e06",
   "metadata": {},
   "outputs": [],
   "source": [
    "# Apply the SDSS magnitude cut?\n",
    "apply_mag_cut = True\n",
    "\n",
    "if apply_mag_cut:\n",
    "    # Median 5-sigma depths\n",
    "    # https://www.sdss.org/dr14/imaging/other_info/\n",
    "    max_mag = np.array([22.15, 23.13, 22.70, 22.20, 20.71])\n",
    "    bright_enough = (apparent_mag_SDSS < max_mag).all(1)\n",
    "\n",
    "# Deterine which galaxies pass the Beck cuts assuming the real and est errors\n",
    "beck_passed = beck_mag_cuts(apparent_mag_SDSS, sim_errs, verbose=False)\n",
    "\n",
    "reliable_photometry = bright_enough & beck_passed\n",
    "print(f\"{bright_enough.sum()} out of {bright_enough.shape[0]} galaxies have sufficient magnitude, \"\n",
    "      f\"{beck_passed.sum()} pass the color tests, {reliable_photometry.sum()} pass both.\")"
   ]
  },
  {
   "cell_type": "code",
   "execution_count": null,
   "id": "8d960a33-7a13-43aa-b2a9-773ef13b9aae",
   "metadata": {},
   "outputs": [],
   "source": [
    "# Same with original data\n",
    "bright_enough_real = (bands < max_mag).all(1)\n",
    "\n",
    "# Deterine which galaxies pass the Beck cuts assuming the real and est errors\n",
    "beck_passed_real = beck_mag_cuts(bands, errs, verbose=False)\n",
    "\n",
    "reliable_photometry_real = bright_enough_real & beck_passed_real\n",
    "print(f\"{bright_enough_real.sum()} out of {bright_enough_real.shape[0]} galaxies have sufficient magnitude, \"\n",
    "      f\"{beck_passed_real.sum()} pass the color tests, {reliable_photometry_real.sum()} pass both.\")"
   ]
  },
  {
   "cell_type": "code",
   "execution_count": null,
   "id": "d1ceba8e-83a5-4e37-9bb0-955a054ac9bd",
   "metadata": {},
   "outputs": [],
   "source": [
    "#Plot photometry and errors\n",
    "for b, e in zip(bands, errs):\n",
    "    fig, ax = plt.subplots(ncols=2, sharex=True, sharey=True)\n",
    "    ax[0].set_yscale('log')\n",
    "    ax[1].set_yscale('log')\n",
    "    \n",
    "    sns.histplot(x=bands[b], y=errs[e], ax=ax[0])\n",
    "    sns.histplot(x=apparent_mag_SDSS[b].to_numpy(), y=sim_errs[e].to_numpy(), ax=ax[1])\n",
    "\n",
    "    #plt.legend()\n",
    "    ax[0].set_xlabel(f'{bands[b].name}-band magnitude')\n",
    "    ax[0].set_ylabel(f'Error {bands[b].name}-band magnitude')"
   ]
  },
  {
   "cell_type": "code",
   "execution_count": null,
   "id": "6491971a-1362-4155-9665-717a49e95200",
   "metadata": {},
   "outputs": [],
   "source": [
    "#Calculate color differences. Could use bands.diff(periods=-1, axis=1)\n",
    "ugcolor = bands['u'] - bands['g']\n",
    "grcolor = bands['g'] - bands['r']\n",
    "ricolor = bands['r'] - bands['i']\n",
    "izcolor = bands['i'] - bands['z']\n",
    "\n",
    "err_gr = np.sqrt(errs['err_g']**2 + errs['err_r']**2)\n",
    "err_ri = np.sqrt(errs['err_r']**2 + errs['err_i']**2)\n",
    "err_iz = np.sqrt(errs['err_i']**2 + errs['err_z']**2)\n",
    "\n",
    "ugcolor_sim = apparent_mag_SDSS['u'] - apparent_mag_SDSS['g']\n",
    "grcolor_sim = apparent_mag_SDSS['g'] - apparent_mag_SDSS['r']\n",
    "ricolor_sim = apparent_mag_SDSS['r'] - apparent_mag_SDSS['i']\n",
    "izcolor_sim = apparent_mag_SDSS['i'] - apparent_mag_SDSS['z']\n",
    "\n",
    "err_gr_sim = np.sqrt(sim_errs['err_g']**2 + sim_errs['err_r']**2)\n",
    "err_ri_sim = np.sqrt(sim_errs['err_r']**2 + sim_errs['err_i']**2)\n",
    "err_iz_sim = np.sqrt(sim_errs['err_i']**2 + sim_errs['err_z']**2)"
   ]
  },
  {
   "cell_type": "code",
   "execution_count": null,
   "id": "b5705d0d-28ed-4def-8919-471afeb0a3ac",
   "metadata": {},
   "outputs": [],
   "source": [
    "vinds_est = beck_passed\n",
    "vinds_real = beck_mag_cuts(bands, errs, verbose=False)"
   ]
  },
  {
   "cell_type": "code",
   "execution_count": null,
   "id": "d29a8047-f67e-4687-83ae-cf9fe5a69428",
   "metadata": {},
   "outputs": [],
   "source": [
    "#Plot colors and errors\n",
    "plt.figure()\n",
    "plt.plot(grcolor, err_gr, 'ko')\n",
    "plt.plot(grcolor[vinds_real], err_gr[vinds_real], 'ro')\n",
    "plt.plot(grcolor_sim[vinds_est], err_gr_sim[vinds_est], 'y+')\n",
    "plt.axhline(0.225)\n",
    "plt.yscale('log')\n",
    "\n",
    "plt.xlabel('gr color')\n",
    "plt.ylabel('gr color error')\n",
    "\n",
    "plt.figure()\n",
    "plt.plot(ricolor, err_ri, 'ko')\n",
    "plt.plot(ricolor[vinds_real], err_ri[vinds_real], 'ro')\n",
    "plt.plot(ricolor_sim[vinds_est], err_ri_sim[vinds_est], 'y+')\n",
    "plt.axhline(0.15)\n",
    "plt.yscale('log')\n",
    "\n",
    "plt.xlabel('ri color')\n",
    "plt.ylabel('ri color error')\n",
    "\n",
    "plt.figure()\n",
    "plt.plot(izcolor, err_iz, 'ko')\n",
    "plt.plot(izcolor[vinds_real], err_iz[vinds_real], 'ro')\n",
    "plt.plot(izcolor_sim[vinds_est], err_iz_sim[vinds_est], 'y+')\n",
    "plt.axhline(0.25)\n",
    "plt.yscale('log')\n",
    "\n",
    "plt.xlabel('iz color')\n",
    "plt.ylabel('iz color error')"
   ]
  },
  {
   "cell_type": "code",
   "execution_count": null,
   "id": "c2538cd6-e2fe-40ac-b22d-ecaf992f6e71",
   "metadata": {},
   "outputs": [],
   "source": [
    "#Compare estimated statistics with true scatter in the data\n",
    "myband = bands['u']\n",
    "merr,med_mag,std_mag, bins = estimate_photo_err(bands['u'], bands['u'], errs['err_u'], bins=30)\n",
    "\n",
    "#This plot doesn't make sense. Rethink\n",
    "#py.plot(myband[0], myband[1], 'r+')\n",
    "#py.errorbar(bins, med_mag, yerr=std_mag, fmt='o')\n",
    "#py.xlabel('magnitude bin')\n",
    "#py.ylabel('median error')\n",
    "\n",
    "plt.figure()\n",
    "plt.errorbar(bins, med_mag, yerr=2*std_mag, fmt='o')\n",
    "plt.errorbar(bins, med_mag, yerr=std_mag, fmt='o')\n",
    "plt.axhline(0.15, color='k')\n",
    "plt.xlabel('magnitude')\n",
    "#plt.xlim((14,22))\n",
    "#plt.ylim((0,0.2))"
   ]
  },
  {
   "cell_type": "code",
   "execution_count": null,
   "id": "64d5d3f2-9c83-4211-b010-dfea72e9f2e9",
   "metadata": {},
   "outputs": [],
   "source": [
    "dr16_bright = (apparent_mag_SDSS < mag_limits_SDSS).all(1)\n",
    "bright_enough = (apparent_mag_SDSS < max_mag).all(1)"
   ]
  },
  {
   "cell_type": "code",
   "execution_count": null,
   "id": "f6109cb3-ff3b-4d61-b469-d9c8c2c3aae6",
   "metadata": {},
   "outputs": [],
   "source": [
    "dr16_bright.sum(), bright_enough.sum(), (dr16_bright | bright_enough).sum(), reliable_photometry.sum()\n"
   ]
  },
  {
   "cell_type": "code",
   "execution_count": null,
   "id": "4a0ba45b-930e-4608-bcbc-8e8540a88307",
   "metadata": {},
   "outputs": [],
   "source": [
    "n_bands_obs = frbs['n_bands_SDSS']\n",
    "n_bands = n_bands_obs.max()\n",
    "#n_observed_sdss[i] = np.histogram(frbs.loc[n_bands_obs.to_numpy() == n_bands, 'z'], bins=np.linspace(0, z_max[0], n_z_bins+1))[0]"
   ]
  },
  {
   "cell_type": "code",
   "execution_count": null,
   "id": "8225e943-901e-409a-9b01-b4939566d6c4",
   "metadata": {},
   "outputs": [],
   "source": [
    "frbs.loc[n_bands_obs.to_numpy() == n_bands, 'z']"
   ]
  },
  {
   "cell_type": "code",
   "execution_count": null,
   "id": "15c87ada-b8f0-42b1-9d37-ea665720ec1e",
   "metadata": {},
   "outputs": [],
   "source": [
    "fig, ax = plt.subplots()\n",
    "ax.hist(frbs['z'], density=False, alpha=0.5, bins=np.linspace(0, 3, 30), color='blue')  #bins[bins<2]\n",
    "ax.hist(frbs.loc[bright_enough.to_numpy(), 'z'], density=False, alpha=0.5, bins=np.linspace(0, 3, 30), color='orange')\n",
    "ax.hist(frbs.loc[reliable_photometry.to_numpy(), 'z'], density=False, alpha=0.5, bins=np.linspace(0, 3, 30), color='red')"
   ]
  },
  {
   "cell_type": "code",
   "execution_count": null,
   "id": "3e8fb00c-4cdf-4a2b-a278-5efd0ff4ccb6",
   "metadata": {},
   "outputs": [],
   "source": []
  }
 ],
 "metadata": {
  "kernelspec": {
   "display_name": "Python 3 (ipykernel)",
   "language": "python",
   "name": "python3"
  },
  "language_info": {
   "codemirror_mode": {
    "name": "ipython",
    "version": 3
   },
   "file_extension": ".py",
   "mimetype": "text/x-python",
   "name": "python",
   "nbconvert_exporter": "python",
   "pygments_lexer": "ipython3",
   "version": "3.9.7"
  }
 },
 "nbformat": 4,
 "nbformat_minor": 5
}
