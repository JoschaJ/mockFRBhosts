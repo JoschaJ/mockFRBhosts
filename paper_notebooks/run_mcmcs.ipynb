{
 "cells": [
  {
   "cell_type": "code",
   "execution_count": null,
   "id": "inclusive-friday",
   "metadata": {},
   "outputs": [],
   "source": [
    "import os\n",
    "import numpy as np\n",
    "import pandas as pd\n",
    "\n",
    "from glob import glob\n",
    "from scipy.stats import lognorm\n",
    "from scipy.interpolate import interp1d\n",
    "from astropy.cosmology import Planck18 as cosmo\n",
    "from frb.dm.igm import average_DM\n",
    "from frb.dm import igm\n",
    "from frb.dm import cosmic\n",
    "from frb.dm import mcmc\n",
    "\n",
    "from mockFRBhosts import draw_galaxies, observed_bands, draw_DM\n",
    "from mockFRBhosts.mcmc_simulations import do_mcmc"
   ]
  },
  {
   "cell_type": "code",
   "execution_count": null,
   "id": "0f8eb9b6-82ea-4f68-8831-69bc068d8bf0",
   "metadata": {},
   "outputs": [],
   "source": [
    "# Define where to save the posteriors.\n",
    "outdir = '../Posteriors/'\n",
    "\n",
    "if not os.path.isdir(outdir):\n",
    "    os.makedirs(outdir)"
   ]
  },
  {
   "cell_type": "code",
   "execution_count": null,
   "id": "2c5c934d-703d-4862-80b8-0a779c9df521",
   "metadata": {},
   "outputs": [],
   "source": [
    "# Load FRBs from the pickle files.\n",
    "pickles = sorted(glob('../Simulated_FRBs/*.pickle'))\n",
    "\n",
    "survey_models, z_models = [], []\n",
    "for file in pickles:\n",
    "    # Extract models from file names.\n",
    "    params = os.path.basename(file)\n",
    "    params = os.path.splitext(params)[0]\n",
    "    params = params.split('_', 1)\n",
    "    survey_models.append(params[0])\n",
    "    z_models.append(params[1])\n",
    "\n",
    "# Check files\n",
    "pickles"
   ]
  },
  {
   "cell_type": "code",
   "execution_count": null,
   "id": "13579bd2-387b-4902-b683-e1b5fa54bcdd",
   "metadata": {},
   "outputs": [],
   "source": [
    "# Number of FRBs that should be used througout\n",
    "n_frbs = 1000\n",
    "\n",
    "# Pick an FRB survey and redshift distribution\n",
    "chosen = pickles[0]\n",
    "radio_survey = survey_models[0]\n",
    "print(chosen)\n",
    "\n",
    "# Weight galaxy choice depending on file name\n",
    "if os.path.splitext(chosen)[0][-3:] == 'sfr':  # last thre letters before extension\n",
    "    weights = 'mstardot'\n",
    "else:\n",
    "    weights = 'mstars_total'\n",
    "\n",
    "frbs = np.load(chosen, allow_pickle=True)\n",
    "print(frbs.shape[0], \"FRBs in file, using only first\", n_frbs)\n",
    "frbs = frbs.iloc[:n_frbs].copy()\n",
    "\n",
    "galaxies, snapnum = draw_galaxies(frbs['z'], weights=weights, seed=42)\n",
    "\n",
    "# Order FRBs such that they correspond to galaxies at the same positions.\n",
    "frbs.loc[:, 'snapnum'] = snapnum\n",
    "frbs.sort_values('snapnum', ascending=True, inplace=True)\n",
    "\n",
    "n_bands_obs_SDSS, n_bands_obs_LSST, n_bands_obs_Euclid, n_bands_obs_DES = observed_bands(frbs, galaxies)\n",
    "\n",
    "frbs['n_bands_SDSS'] = n_bands_obs_SDSS.to_numpy()\n",
    "frbs['n_bands_LSST'] = n_bands_obs_LSST.to_numpy()\n",
    "frbs['n_bands_Euclid'] = n_bands_obs_Euclid.to_numpy()\n",
    "frbs['n_bands_DES'] = n_bands_obs_DES.to_numpy()"
   ]
  },
  {
   "cell_type": "code",
   "execution_count": null,
   "id": "b826eb20-7372-47d4-8c28-523320afbf69",
   "metadata": {},
   "outputs": [],
   "source": [
    "# Draw a DM for each FRB given its reshift.\n",
    "rng = np.random.default_rng(seed=42)\n",
    "frbs['DM'] = draw_DM(frbs['z'], F=0.2, mu=100, lognorm_s=1, rng=rng)"
   ]
  },
  {
   "cell_type": "code",
   "execution_count": null,
   "id": "a4e8f4f3-fe20-42dc-87e5-ce423cc11dee",
   "metadata": {
    "tags": []
   },
   "outputs": [],
   "source": [
    "survey = 'SDSS'\n",
    "n_bands_obs = frbs['n_bands_' + survey]\n",
    "n_bands = n_bands_obs.max()\n",
    "\n",
    "# Limit to FRBs with host in all bands and shuffle them.\n",
    "frbs_w_host = frbs[n_bands_obs.to_numpy() == n_bands]\n",
    "rng = np.random.default_rng(seed=42)\n",
    "frbs_w_host = frbs_w_host.sample(frac=1, ignore_index=True, random_state=rng)"
   ]
  },
  {
   "cell_type": "code",
   "execution_count": null,
   "id": "a8cf904e-644b-4853-a7d6-20f51c5f0afc",
   "metadata": {},
   "outputs": [],
   "source": [
    "draws = 1500  # Draws are per chain.\n",
    "cores = 20    # Each core has its own chain.\n",
    "\n",
    "frb_set = frbs_w_host\n",
    "\n",
    "n_frbs = len(frb_set)\n",
    "print(n_frbs)"
   ]
  },
  {
   "cell_type": "code",
   "execution_count": null,
   "id": "0218da9a-cc27-4bae-bbab-91d9a9ffbaf8",
   "metadata": {},
   "outputs": [],
   "source": [
    "# Make an MCMC simulation for all FRBs with a host galaxy.\n",
    "post_path = os.path.join(outdir, f\"{radio_survey}_{survey}_{n_frbs}_zs_{cores}x{draws}_draws.nc\")\n",
    "if not os.path.isfile(post_path):\n",
    "    frb_set = frbs_w_host.iloc[:n_frbs]\n",
    "\n",
    "    idata = do_mcmc(frb_set['z'], frb_set['DM'], draws=draws, cores=cores)\n",
    "    idata.to_netcdf(post_path)\n",
    "\n",
    "else:\n",
    "    print(\"Already existing, skip.\")"
   ]
  },
  {
   "cell_type": "code",
   "execution_count": null,
   "id": "f143d29f-7acd-4300-a3f9-d8b7d86612d3",
   "metadata": {},
   "outputs": [],
   "source": [
    "# Creat random samples from the FRB population to compare with.\n",
    "rndm_sample1 = frbs.sample(n=n_frbs, ignore_index=True, random_state=rng)\n",
    "rndm_sample2 = frbs.sample(n=n_frbs, ignore_index=True, random_state=rng)\n",
    "rndm_sample3 = frbs.sample(n=n_frbs, ignore_index=True, random_state=rng)\n",
    "\n",
    "for frb_set in [rndm_sample1, rndm_sample2, rndm_sample3]:\n",
    "    i = 0\n",
    "    post_path = os.path.join(outdir, f\"{radio_survey}_{survey}_random_sample_of_{len(frb_set)}_zs_run_{i}_{cores}x{draws}_draws.nc\")\n",
    "    # Don't overwrite existing files.\n",
    "    while os.path.isfile(post_path):\n",
    "        i += 1\n",
    "        post_path = os.path.join(outdir, f\"{radio_survey}_{survey}_random_sample_of_{len(frb_set)}_zs_run_{i}_{cores}x{draws}_draws.nc\")\n",
    "        \n",
    "    print(f\"Will save to {post_path}\")\n",
    "\n",
    "    frb_set = frbs_w_host.iloc[:n_frbs]\n",
    "\n",
    "    idata = do_mcmc(frb_set['z'], frb_set['DM'], draws=draws, cores=cores)\n",
    "    idata.to_netcdf(post_path)\n"
   ]
  },
  {
   "cell_type": "code",
   "execution_count": null,
   "id": "08b02121-c675-480c-b92a-fefdcec71567",
   "metadata": {},
   "outputs": [],
   "source": [
    "print(sorted(list(set(np.logspace(1, np.log10(len(frbs_w_host)), 30, dtype=int)))))"
   ]
  },
  {
   "cell_type": "code",
   "execution_count": null,
   "id": "171fbbf0-64c5-45c9-a778-779fd008fd30",
   "metadata": {
    "tags": []
   },
   "outputs": [],
   "source": [
    "draws = 150\n",
    "cores = 20\n",
    "\n",
    "for n_frbs in sorted(list(set(np.logspace(1, np.log10(len(frbs_w_host)), 30, dtype=int)))): # [5,7]: #\n",
    "    print(n_frbs)\n",
    "\n",
    "    post_path = os.path.join(outdir, f\"{radio_survey}_{survey}_{n_frbs}_zs_{cores}x{draws}_draws.nc\")\n",
    "    if os.path.isfile(post_path):\n",
    "        continue\n",
    "    \n",
    "    frb_set = frbs_w_host.iloc[:n_frbs]\n",
    "\n",
    "    idata = do_mcmc(frb_set['z'], frb_set['DM'], draws=draws, cores=cores)\n",
    "    idata.to_netcdf(post_path)"
   ]
  }
 ],
 "metadata": {
  "kernelspec": {
   "display_name": "Python 3 (ipykernel)",
   "language": "python",
   "name": "python3"
  },
  "language_info": {
   "codemirror_mode": {
    "name": "ipython",
    "version": 3
   },
   "file_extension": ".py",
   "mimetype": "text/x-python",
   "name": "python",
   "nbconvert_exporter": "python",
   "pygments_lexer": "ipython3",
   "version": "3.9.7"
  }
 },
 "nbformat": 4,
 "nbformat_minor": 5
}
